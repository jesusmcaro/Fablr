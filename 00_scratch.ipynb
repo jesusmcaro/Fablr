{
 "cells": [
  {
   "cell_type": "code",
   "execution_count": 1,
   "metadata": {},
   "outputs": [],
   "source": [
    "from fablr import dataframes as d"
   ]
  },
  {
   "cell_type": "code",
   "execution_count": 2,
   "metadata": {},
   "outputs": [],
   "source": [
    "from fablr.extended_providers import sample_dataframe_provider, sample_list_provider"
   ]
  },
  {
   "cell_type": "code",
   "execution_count": 3,
   "metadata": {},
   "outputs": [],
   "source": [
    "gen = d.Fablr()\n",
    "gen.set_seed(123)"
   ]
  },
  {
   "cell_type": "code",
   "execution_count": 8,
   "metadata": {},
   "outputs": [],
   "source": [
    "from datetime import datetime as dt\n",
    "date_format = '%Y-%m-%d'\n",
    "column_providers_dict = {\n",
    "  'user_id': {'provider':'random_int', 'unique': True, 'kwargs':{\"min\":0, \"max\": 1e10}},\n",
    "  'first_name': {'provider': 'first_name', 'kwargs': {}},\n",
    "  'last_name': {'provider': 'last_name', 'kwargs': {}},\n",
    "  'email': {'provider': 'email', 'kwargs': {}},\n",
    "  'last_login': {'provider': 'date_between_dates',\n",
    "                 'kwargs': {'date_start': dt.strptime('2023-01-01', date_format), 'date_end': dt.strptime('2023-12-01', date_format)}},\n",
    "  'subscription_tier' : {'provider': 'sample_list',\n",
    "                         'kwargs':{'list':[\"Free\", \"Plus\", \"Premium\"], 'unique': False}}\n",
    "}"
   ]
  },
  {
   "cell_type": "code",
   "execution_count": 7,
   "metadata": {},
   "outputs": [
    {
     "data": {
      "text/html": [
       "<div>\n",
       "<style scoped>\n",
       "    .dataframe tbody tr th:only-of-type {\n",
       "        vertical-align: middle;\n",
       "    }\n",
       "\n",
       "    .dataframe tbody tr th {\n",
       "        vertical-align: top;\n",
       "    }\n",
       "\n",
       "    .dataframe thead th {\n",
       "        text-align: right;\n",
       "    }\n",
       "</style>\n",
       "<table border=\"1\" class=\"dataframe\">\n",
       "  <thead>\n",
       "    <tr style=\"text-align: right;\">\n",
       "      <th></th>\n",
       "      <th>user_id</th>\n",
       "      <th>first_name</th>\n",
       "      <th>last_name</th>\n",
       "      <th>email</th>\n",
       "      <th>last_login</th>\n",
       "      <th>subscription_tier</th>\n",
       "    </tr>\n",
       "  </thead>\n",
       "  <tbody>\n",
       "    <tr>\n",
       "      <th>0</th>\n",
       "      <td>8420556109</td>\n",
       "      <td>Alexander</td>\n",
       "      <td>Orozco</td>\n",
       "      <td>ocohen@example.net</td>\n",
       "      <td>2023-08-20</td>\n",
       "      <td>Plus</td>\n",
       "    </tr>\n",
       "    <tr>\n",
       "      <th>1</th>\n",
       "      <td>6096689979</td>\n",
       "      <td>William</td>\n",
       "      <td>Boone</td>\n",
       "      <td>jessicamiller@example.com</td>\n",
       "      <td>2023-09-13</td>\n",
       "      <td>Free</td>\n",
       "    </tr>\n",
       "  </tbody>\n",
       "</table>\n",
       "</div>"
      ],
      "text/plain": [
       "      user_id first_name last_name                      email  last_login  \\\n",
       "0  8420556109  Alexander    Orozco         ocohen@example.net  2023-08-20   \n",
       "1  6096689979    William     Boone  jessicamiller@example.com  2023-09-13   \n",
       "\n",
       "  subscription_tier  \n",
       "0              Plus  \n",
       "1              Free  "
      ]
     },
     "execution_count": 7,
     "metadata": {},
     "output_type": "execute_result"
    }
   ],
   "source": [
    "data = gen.generate_dataframe(2, column_providers_dict)\n",
    "data.head(5)"
   ]
  },
  {
   "cell_type": "code",
   "execution_count": null,
   "metadata": {},
   "outputs": [
    {
     "ename": "NameError",
     "evalue": "name 'to_many_provider' is not defined",
     "output_type": "error",
     "traceback": [
      "\u001b[0;31m---------------------------------------------------------------------------\u001b[0m",
      "\u001b[0;31mNameError\u001b[0m                                 Traceback (most recent call last)",
      "Cell \u001b[0;32mIn[6], line 1\u001b[0m\n\u001b[0;32m----> 1\u001b[0m gen\u001b[39m.\u001b[39mfake\u001b[39m.\u001b[39madd_provider(to_many_provider)\n\u001b[1;32m      2\u001b[0m gen\u001b[39m.\u001b[39mfake\u001b[39m.\u001b[39madd_provider(to_one_provider)\n",
      "\u001b[0;31mNameError\u001b[0m: name 'to_many_provider' is not defined"
     ]
    }
   ],
   "source": [
    "gen.fake.add_provider(to_many_provider)\n",
    "gen.fake.add_provider(to_one_provider)"
   ]
  },
  {
   "cell_type": "code",
   "execution_count": null,
   "metadata": {},
   "outputs": [
    {
     "data": {
      "text/plain": [
       "6418"
      ]
     },
     "execution_count": 7,
     "metadata": {},
     "output_type": "execute_result"
    }
   ],
   "source": [
    "gen.fake.unique.random_int()"
   ]
  },
  {
   "cell_type": "code",
   "execution_count": null,
   "metadata": {},
   "outputs": [
    {
     "ename": "NameError",
     "evalue": "name 'data' is not defined",
     "output_type": "error",
     "traceback": [
      "\u001b[0;31m---------------------------------------------------------------------------\u001b[0m",
      "\u001b[0;31mNameError\u001b[0m                                 Traceback (most recent call last)",
      "Cell \u001b[0;32mIn[1], line 1\u001b[0m\n\u001b[0;32m----> 1\u001b[0m data\n",
      "\u001b[0;31mNameError\u001b[0m: name 'data' is not defined"
     ]
    }
   ],
   "source": [
    "data"
   ]
  },
  {
   "cell_type": "code",
   "execution_count": null,
   "metadata": {},
   "outputs": [],
   "source": [
    "dict_df ={\n",
    "    \"col_1\": [\"a\", \"b\", \"c\",\"c\", \"c\"],\n",
    "    \"col_2\": [\"d\", \"e\", \"f\", \"g\", \"h\"],\n",
    "}"
   ]
  },
  {
   "cell_type": "code",
   "execution_count": null,
   "metadata": {},
   "outputs": [],
   "source": [
    "import pandas as pd"
   ]
  },
  {
   "cell_type": "code",
   "execution_count": null,
   "metadata": {},
   "outputs": [],
   "source": [
    "df = pd.DataFrame(dict_df)"
   ]
  },
  {
   "cell_type": "code",
   "execution_count": null,
   "metadata": {},
   "outputs": [
    {
     "data": {
      "text/plain": [
       "0    a\n",
       "1    b\n",
       "2    c\n",
       "Name: col_1, dtype: object"
      ]
     },
     "execution_count": 9,
     "metadata": {},
     "output_type": "execute_result"
    }
   ],
   "source": [
    "df[\"col_1\"].drop_duplicates()"
   ]
  },
  {
   "cell_type": "code",
   "execution_count": null,
   "metadata": {},
   "outputs": [],
   "source": []
  }
 ],
 "metadata": {
  "kernelspec": {
   "display_name": "faker-dev-venv",
   "language": "python",
   "name": "python3"
  },
  "language_info": {
   "codemirror_mode": {
    "name": "ipython",
    "version": 3
   },
   "file_extension": ".py",
   "mimetype": "text/x-python",
   "name": "python",
   "nbconvert_exporter": "python",
   "pygments_lexer": "ipython3",
   "version": "3.8.18"
  },
  "orig_nbformat": 4,
  "vscode": {
   "interpreter": {
    "hash": "9e3abb1a47bb6014f65ec3081e543ff83a12439431e8fb9b528eebf1717f0412"
   }
  }
 },
 "nbformat": 4,
 "nbformat_minor": 2
}
