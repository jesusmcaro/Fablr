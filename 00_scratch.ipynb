{
 "cells": [
  {
   "cell_type": "code",
   "execution_count": 1,
   "metadata": {},
   "outputs": [],
   "source": [
    "from fablr import dataframes as d\n",
    "from fablr.sample_assets.artists import artists as artists_list"
   ]
  },
  {
   "cell_type": "code",
   "execution_count": 2,
   "metadata": {},
   "outputs": [],
   "source": [
    "from fablr.extended_providers import sample_dataframe_provider, sample_list_provider"
   ]
  },
  {
   "cell_type": "code",
   "execution_count": 3,
   "metadata": {},
   "outputs": [],
   "source": [
    "gen = d.Fablr()\n",
    "gen.set_seed(123)"
   ]
  },
  {
   "cell_type": "code",
   "execution_count": 4,
   "metadata": {},
   "outputs": [
    {
     "data": {
      "text/html": [
       "<div>\n",
       "<style scoped>\n",
       "    .dataframe tbody tr th:only-of-type {\n",
       "        vertical-align: middle;\n",
       "    }\n",
       "\n",
       "    .dataframe tbody tr th {\n",
       "        vertical-align: top;\n",
       "    }\n",
       "\n",
       "    .dataframe thead th {\n",
       "        text-align: right;\n",
       "    }\n",
       "</style>\n",
       "<table border=\"1\" class=\"dataframe\">\n",
       "  <thead>\n",
       "    <tr style=\"text-align: right;\">\n",
       "      <th></th>\n",
       "      <th>user_id</th>\n",
       "      <th>first_name</th>\n",
       "      <th>last_name</th>\n",
       "      <th>email</th>\n",
       "      <th>last_login</th>\n",
       "      <th>subscription_tier</th>\n",
       "    </tr>\n",
       "  </thead>\n",
       "  <tbody>\n",
       "    <tr>\n",
       "      <th>0</th>\n",
       "      <td>4519867238</td>\n",
       "      <td>Christopher</td>\n",
       "      <td>Russell</td>\n",
       "      <td>robersonnancy@example.com</td>\n",
       "      <td>2023-07-28</td>\n",
       "      <td>Standard</td>\n",
       "    </tr>\n",
       "    <tr>\n",
       "      <th>1</th>\n",
       "      <td>222915915</td>\n",
       "      <td>Derek</td>\n",
       "      <td>Hoffman</td>\n",
       "      <td>frankbullock@example.org</td>\n",
       "      <td>2023-08-21</td>\n",
       "      <td>Standard</td>\n",
       "    </tr>\n",
       "    <tr>\n",
       "      <th>2</th>\n",
       "      <td>300119278</td>\n",
       "      <td>Leslie</td>\n",
       "      <td>West</td>\n",
       "      <td>davisdouglas@example.org</td>\n",
       "      <td>2023-04-24</td>\n",
       "      <td>Standard</td>\n",
       "    </tr>\n",
       "  </tbody>\n",
       "</table>\n",
       "</div>"
      ],
      "text/plain": [
       "      user_id   first_name last_name                      email  last_login  \\\n",
       "0  4519867238  Christopher   Russell  robersonnancy@example.com  2023-07-28   \n",
       "1   222915915        Derek   Hoffman   frankbullock@example.org  2023-08-21   \n",
       "2   300119278       Leslie      West   davisdouglas@example.org  2023-04-24   \n",
       "\n",
       "  subscription_tier  \n",
       "0          Standard  \n",
       "1          Standard  \n",
       "2          Standard  "
      ]
     },
     "execution_count": 4,
     "metadata": {},
     "output_type": "execute_result"
    }
   ],
   "source": [
    "from datetime import datetime as dt\n",
    "date_format = '%Y-%m-%d'\n",
    "users_dict = {\n",
    "  'user_id': {'provider':'random_int', 'unique': True, 'kwargs':{\"min\":0, \"max\": 1e10}},\n",
    "  'first_name': {'provider': 'first_name', 'kwargs': {}},\n",
    "  'last_name': {'provider': 'last_name', 'kwargs': {}},\n",
    "  'email': {'provider': 'email', 'kwargs': {}},\n",
    "  'last_login': {'provider': 'date_between_dates',\n",
    "                 'kwargs': {'date_start': dt.strptime('2023-01-01', date_format), 'date_end': dt.strptime('2023-12-01', date_format)}},\n",
    "  'subscription_tier' : {'provider': 'sample_list',\n",
    "                         'kwargs':{'list':[\"Prime\", \"Standard\"], 'unique': False}}\n",
    "}\n",
    "\n",
    "users_df = gen.generate_dataframe(10000, users_dict)\n",
    "users_df.head(3)\n"
   ]
  },
  {
   "cell_type": "code",
   "execution_count": 5,
   "metadata": {},
   "outputs": [
    {
     "data": {
      "text/html": [
       "<div>\n",
       "<style scoped>\n",
       "    .dataframe tbody tr th:only-of-type {\n",
       "        vertical-align: middle;\n",
       "    }\n",
       "\n",
       "    .dataframe tbody tr th {\n",
       "        vertical-align: top;\n",
       "    }\n",
       "\n",
       "    .dataframe thead th {\n",
       "        text-align: right;\n",
       "    }\n",
       "</style>\n",
       "<table border=\"1\" class=\"dataframe\">\n",
       "  <thead>\n",
       "    <tr style=\"text-align: right;\">\n",
       "      <th></th>\n",
       "      <th>event_id</th>\n",
       "      <th>event_name</th>\n",
       "      <th>event_date</th>\n",
       "      <th>event_location</th>\n",
       "      <th>event_result</th>\n",
       "    </tr>\n",
       "  </thead>\n",
       "  <tbody>\n",
       "    <tr>\n",
       "      <th>0</th>\n",
       "      <td>eid_fCUE-28453</td>\n",
       "      <td>Muse</td>\n",
       "      <td>2019-06-02</td>\n",
       "      <td>North Heidi</td>\n",
       "      <td>succesfull</td>\n",
       "    </tr>\n",
       "    <tr>\n",
       "      <th>1</th>\n",
       "      <td>eid_xFMH-73878</td>\n",
       "      <td>Red Hot Chili Peppers</td>\n",
       "      <td>2021-01-20</td>\n",
       "      <td>South Courtney</td>\n",
       "      <td>succesfull</td>\n",
       "    </tr>\n",
       "    <tr>\n",
       "      <th>2</th>\n",
       "      <td>eid_QgkC-40920</td>\n",
       "      <td>The Stone Roses</td>\n",
       "      <td>2023-07-23</td>\n",
       "      <td>West Albert</td>\n",
       "      <td>succesfull</td>\n",
       "    </tr>\n",
       "    <tr>\n",
       "      <th>3</th>\n",
       "      <td>eid_iwvj-44667</td>\n",
       "      <td>The Cure</td>\n",
       "      <td>2023-02-18</td>\n",
       "      <td>South Sandra</td>\n",
       "      <td>succesfull</td>\n",
       "    </tr>\n",
       "    <tr>\n",
       "      <th>4</th>\n",
       "      <td>eid_QzjW-74244</td>\n",
       "      <td>Led Zeppelin</td>\n",
       "      <td>2023-10-22</td>\n",
       "      <td>New Darren</td>\n",
       "      <td>succesfull</td>\n",
       "    </tr>\n",
       "  </tbody>\n",
       "</table>\n",
       "</div>"
      ],
      "text/plain": [
       "         event_id             event_name  event_date  event_location  \\\n",
       "0  eid_fCUE-28453                   Muse  2019-06-02     North Heidi   \n",
       "1  eid_xFMH-73878  Red Hot Chili Peppers  2021-01-20  South Courtney   \n",
       "2  eid_QgkC-40920        The Stone Roses  2023-07-23     West Albert   \n",
       "3  eid_iwvj-44667               The Cure  2023-02-18    South Sandra   \n",
       "4  eid_QzjW-74244           Led Zeppelin  2023-10-22      New Darren   \n",
       "\n",
       "  event_result  \n",
       "0   succesfull  \n",
       "1   succesfull  \n",
       "2   succesfull  \n",
       "3   succesfull  \n",
       "4   succesfull  "
      ]
     },
     "execution_count": 5,
     "metadata": {},
     "output_type": "execute_result"
    }
   ],
   "source": [
    "events_dict = {\n",
    "    'event_id': {'provider':'bothify', 'kwargs':{'text': 'eid_????-#####'}},\n",
    "    'event_name': {'provider': 'sample_list', 'kwargs': {'list': artists_list}},\n",
    "    'event_date': {'provider': 'date_between_dates',\n",
    "                 'kwargs': {'date_start': dt.strptime('2019-01-01', date_format), 'date_end': dt.strptime('2023-12-01', date_format)}},\n",
    "    'event_location': {'provider': 'city', 'kwargs': {}},\n",
    "    'event_result': {'provider': 'sample_list', 'kwargs': {'list': ['succesfull']*91 + ['cancelled']*9}},\n",
    "}\n",
    "events_df = gen.generate_dataframe(800, events_dict)\n",
    "events_df.head()"
   ]
  },
  {
   "cell_type": "code",
   "execution_count": 6,
   "metadata": {},
   "outputs": [
    {
     "ename": "AttributeError",
     "evalue": "'Generator' object has no attribute 'random_float_between'",
     "output_type": "error",
     "traceback": [
      "\u001b[0;31m---------------------------------------------------------------------------\u001b[0m",
      "\u001b[0;31mAttributeError\u001b[0m                            Traceback (most recent call last)",
      "Cell \u001b[0;32mIn[6], line 9\u001b[0m\n\u001b[1;32m      1\u001b[0m tickets_dict \u001b[39m=\u001b[39m {\n\u001b[1;32m      2\u001b[0m     \u001b[39m'\u001b[39m\u001b[39mticket_no\u001b[39m\u001b[39m'\u001b[39m: {\u001b[39m'\u001b[39m\u001b[39mprovider\u001b[39m\u001b[39m'\u001b[39m:\u001b[39m'\u001b[39m\u001b[39mrandom_int\u001b[39m\u001b[39m'\u001b[39m, \u001b[39m'\u001b[39m\u001b[39munique\u001b[39m\u001b[39m'\u001b[39m: \u001b[39mTrue\u001b[39;00m, \u001b[39m'\u001b[39m\u001b[39mkwargs\u001b[39m\u001b[39m'\u001b[39m:{\u001b[39m\"\u001b[39m\u001b[39mmin\u001b[39m\u001b[39m\"\u001b[39m:\u001b[39m0\u001b[39m, \u001b[39m\"\u001b[39m\u001b[39mmax\u001b[39m\u001b[39m\"\u001b[39m: \u001b[39m1e10\u001b[39m}},\n\u001b[1;32m      3\u001b[0m     \u001b[39m'\u001b[39m\u001b[39mevent_id\u001b[39m\u001b[39m'\u001b[39m: {\u001b[39m'\u001b[39m\u001b[39mprovider\u001b[39m\u001b[39m'\u001b[39m:\u001b[39m'\u001b[39m\u001b[39msample_dataframe\u001b[39m\u001b[39m'\u001b[39m, \u001b[39m'\u001b[39m\u001b[39mkwargs\u001b[39m\u001b[39m'\u001b[39m: {\u001b[39m'\u001b[39m\u001b[39mdf\u001b[39m\u001b[39m'\u001b[39m: events_df, \u001b[39m'\u001b[39m\u001b[39mcolumn\u001b[39m\u001b[39m'\u001b[39m: \u001b[39m'\u001b[39m\u001b[39mevent_id\u001b[39m\u001b[39m'\u001b[39m}},\n\u001b[0;32m   (...)\u001b[0m\n\u001b[1;32m      6\u001b[0m     \u001b[39m'\u001b[39m\u001b[39msurcharge\u001b[39m\u001b[39m'\u001b[39m: {\u001b[39m'\u001b[39m\u001b[39mprovider\u001b[39m\u001b[39m'\u001b[39m: \u001b[39m'\u001b[39m\u001b[39msample_list\u001b[39m\u001b[39m'\u001b[39m, \u001b[39m'\u001b[39m\u001b[39mkwargs\u001b[39m\u001b[39m'\u001b[39m: {\u001b[39m'\u001b[39m\u001b[39mlist\u001b[39m\u001b[39m'\u001b[39m: [\u001b[39m5.99\u001b[39m]\u001b[39m*\u001b[39m\u001b[39m20\u001b[39m \u001b[39m+\u001b[39m [\u001b[39m11.99\u001b[39m]\u001b[39m*\u001b[39m\u001b[39m15\u001b[39m \u001b[39m+\u001b[39m [\u001b[39m0\u001b[39m]\u001b[39m*\u001b[39m\u001b[39m65\u001b[39m}},\n\u001b[1;32m      7\u001b[0m }\n\u001b[0;32m----> 9\u001b[0m tickets_df \u001b[39m=\u001b[39m gen\u001b[39m.\u001b[39;49mgenerate_dataframe(\u001b[39m1000\u001b[39;49m, tickets_dict)\n\u001b[1;32m     10\u001b[0m tickets_df\u001b[39m.\u001b[39mhead()\n",
      "File \u001b[0;32m/workspaces/Fablr/fablr/dataframes.py:42\u001b[0m, in \u001b[0;36mFablr.generate_dataframe\u001b[0;34m(self, rows, column_providers, primary_keys)\u001b[0m\n\u001b[1;32m     39\u001b[0m \u001b[39mdef\u001b[39;00m \u001b[39mgenerate_dataframe\u001b[39m(\n\u001b[1;32m     40\u001b[0m     \u001b[39mself\u001b[39m, rows: \u001b[39mint\u001b[39m, column_providers: \u001b[39mdict\u001b[39m, primary_keys: \u001b[39mlist\u001b[39m \u001b[39m=\u001b[39m \u001b[39mNone\u001b[39;00m\n\u001b[1;32m     41\u001b[0m ) \u001b[39m-\u001b[39m\u001b[39m>\u001b[39m DataFrame:\n\u001b[0;32m---> 42\u001b[0m     df \u001b[39m=\u001b[39m \u001b[39mself\u001b[39;49m\u001b[39m.\u001b[39;49mgenerate_data(rows, column_providers)\n\u001b[1;32m     43\u001b[0m     df \u001b[39m=\u001b[39m pd\u001b[39m.\u001b[39mDataFrame(df)\n\u001b[1;32m     44\u001b[0m     \u001b[39mif\u001b[39;00m primary_keys \u001b[39mis\u001b[39;00m \u001b[39mnot\u001b[39;00m \u001b[39mNone\u001b[39;00m:\n",
      "File \u001b[0;32m/workspaces/Fablr/fablr/dataframes.py:35\u001b[0m, in \u001b[0;36mFablr.generate_data\u001b[0;34m(self, rows, column_providers)\u001b[0m\n\u001b[1;32m     33\u001b[0m         \u001b[39melse\u001b[39;00m:\n\u001b[1;32m     34\u001b[0m             faker \u001b[39m=\u001b[39m \u001b[39mself\u001b[39m\u001b[39m.\u001b[39mfake\n\u001b[0;32m---> 35\u001b[0m         row_data[column] \u001b[39m=\u001b[39m \u001b[39mgetattr\u001b[39;49m(faker, provider)(\u001b[39m*\u001b[39m\u001b[39m*\u001b[39mkwargs)\n\u001b[1;32m     36\u001b[0m     data\u001b[39m.\u001b[39mappend(row_data)\n\u001b[1;32m     37\u001b[0m \u001b[39mreturn\u001b[39;00m data\n",
      "File \u001b[0;32m/workspaces/Fablr/faker-dev-venv/lib/python3.8/site-packages/faker/proxy.py:114\u001b[0m, in \u001b[0;36mFaker.__getattr__\u001b[0;34m(self, attr)\u001b[0m\n\u001b[1;32m    107\u001b[0m \u001b[39m\u001b[39m\u001b[39m\"\"\"\u001b[39;00m\n\u001b[1;32m    108\u001b[0m \u001b[39mHandles cache access and proxying behavior\u001b[39;00m\n\u001b[1;32m    109\u001b[0m \n\u001b[1;32m    110\u001b[0m \u001b[39m:param attr: attribute name\u001b[39;00m\n\u001b[1;32m    111\u001b[0m \u001b[39m:return: the appropriate attribute\u001b[39;00m\n\u001b[1;32m    112\u001b[0m \u001b[39m\"\"\"\u001b[39;00m\n\u001b[1;32m    113\u001b[0m \u001b[39mif\u001b[39;00m \u001b[39mlen\u001b[39m(\u001b[39mself\u001b[39m\u001b[39m.\u001b[39m_factories) \u001b[39m==\u001b[39m \u001b[39m1\u001b[39m:\n\u001b[0;32m--> 114\u001b[0m     \u001b[39mreturn\u001b[39;00m \u001b[39mgetattr\u001b[39;49m(\u001b[39mself\u001b[39;49m\u001b[39m.\u001b[39;49m_factories[\u001b[39m0\u001b[39;49m], attr)\n\u001b[1;32m    115\u001b[0m \u001b[39melif\u001b[39;00m attr \u001b[39min\u001b[39;00m \u001b[39mself\u001b[39m\u001b[39m.\u001b[39mgenerator_attrs:\n\u001b[1;32m    116\u001b[0m     msg \u001b[39m=\u001b[39m \u001b[39m\"\u001b[39m\u001b[39mProxying calls to `\u001b[39m\u001b[39m%s\u001b[39;00m\u001b[39m` is not implemented in multiple locale mode.\u001b[39m\u001b[39m\"\u001b[39m \u001b[39m%\u001b[39m attr\n",
      "\u001b[0;31mAttributeError\u001b[0m: 'Generator' object has no attribute 'random_float_between'"
     ]
    }
   ],
   "source": [
    "tickets_dict = {\n",
    "    'ticket_no': {'provider':'random_int', 'unique': True, 'kwargs':{\"min\":0, \"max\": 1e10}},\n",
    "    'event_id': {'provider':'sample_dataframe', 'kwargs': {'df': events_df, 'column': 'event_id'}},\n",
    "    'user_id': {'provider':'sample_dataframe', 'kwargs': {'df': users_df, 'column': 'user_id'}},\n",
    "    'total_charged': {'provider': 'random_float', 'kwargs': {'min': 20, 'max': 800}},\n",
    "    'surcharge': {'provider': 'sample_list', 'kwargs': {'list': [5.99]*20 + [11.99]*15 + [0]*65}},\n",
    "}\n",
    "\n",
    "tickets_df = gen.generate_dataframe(1000, tickets_dict)\n",
    "tickets_df.head()\n",
    "    "
   ]
  },
  {
   "cell_type": "code",
   "execution_count": null,
   "metadata": {},
   "outputs": [],
   "source": []
  }
 ],
 "metadata": {
  "kernelspec": {
   "display_name": "faker-dev-venv",
   "language": "python",
   "name": "python3"
  },
  "language_info": {
   "codemirror_mode": {
    "name": "ipython",
    "version": 3
   },
   "file_extension": ".py",
   "mimetype": "text/x-python",
   "name": "python",
   "nbconvert_exporter": "python",
   "pygments_lexer": "ipython3",
   "version": "3.8.18"
  },
  "orig_nbformat": 4,
  "vscode": {
   "interpreter": {
    "hash": "9e3abb1a47bb6014f65ec3081e543ff83a12439431e8fb9b528eebf1717f0412"
   }
  }
 },
 "nbformat": 4,
 "nbformat_minor": 2
}
