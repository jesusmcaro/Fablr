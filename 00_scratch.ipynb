{
 "cells": [
  {
   "cell_type": "code",
   "execution_count": 1,
   "metadata": {},
   "outputs": [
    {
     "name": "stdout",
     "output_type": "stream",
     "text": [
      "set()\n"
     ]
    }
   ],
   "source": [
    "from fablr import dataframes as d"
   ]
  },
  {
   "cell_type": "code",
   "execution_count": 2,
   "metadata": {},
   "outputs": [],
   "source": [
    "from fablr.extended_providers import ToManyProvider, ToOneProvider"
   ]
  },
  {
   "cell_type": "code",
   "execution_count": 3,
   "metadata": {},
   "outputs": [],
   "source": [
    "gen = d.Fablr()\n",
    "gen.set_seed(123)"
   ]
  },
  {
   "cell_type": "code",
   "execution_count": 4,
   "metadata": {},
   "outputs": [],
   "source": [
    "from datetime import datetime as dt\n",
    "date_format = '%Y-%m-%d'\n",
    "column_providers_dict = {\n",
    "  'first_name': {'provider': 'first_name', 'kwargs': {}},\n",
    "  'last_name': {'provider': 'last_name', 'kwargs': {}},\n",
    "  'email': {'provider': 'email', 'kwargs': {}},\n",
    "  'last_login': {'provider': 'date_between_dates',\n",
    "                 'kwargs': {'date_start': dt.strptime('2023-01-01', date_format), 'date_end': dt.strptime('2023-12-01', date_format)}},\n",
    "  #'foo': {'provider': 'foo', 'kwargs': {}},\n",
    "}"
   ]
  },
  {
   "cell_type": "code",
   "execution_count": 5,
   "metadata": {},
   "outputs": [
    {
     "data": {
      "text/html": [
       "<div>\n",
       "<style scoped>\n",
       "    .dataframe tbody tr th:only-of-type {\n",
       "        vertical-align: middle;\n",
       "    }\n",
       "\n",
       "    .dataframe tbody tr th {\n",
       "        vertical-align: top;\n",
       "    }\n",
       "\n",
       "    .dataframe thead th {\n",
       "        text-align: right;\n",
       "    }\n",
       "</style>\n",
       "<table border=\"1\" class=\"dataframe\">\n",
       "  <thead>\n",
       "    <tr style=\"text-align: right;\">\n",
       "      <th></th>\n",
       "      <th>first_name</th>\n",
       "      <th>last_name</th>\n",
       "      <th>email</th>\n",
       "      <th>last_login</th>\n",
       "      <th>hash</th>\n",
       "    </tr>\n",
       "  </thead>\n",
       "  <tbody>\n",
       "    <tr>\n",
       "      <th>0</th>\n",
       "      <td>Brian</td>\n",
       "      <td>Miller</td>\n",
       "      <td>cadams@example.com</td>\n",
       "      <td>2023-07-28</td>\n",
       "      <td>ff9874715f4ceca27f1603e1babc6e80779d5949e35ba1...</td>\n",
       "    </tr>\n",
       "    <tr>\n",
       "      <th>1</th>\n",
       "      <td>Anna</td>\n",
       "      <td>Peterson</td>\n",
       "      <td>moorematthew@example.com</td>\n",
       "      <td>2023-09-30</td>\n",
       "      <td>9f781215b0ebae5f53f97a13bd93a4a53652a33f9a56d9...</td>\n",
       "    </tr>\n",
       "    <tr>\n",
       "      <th>2</th>\n",
       "      <td>John</td>\n",
       "      <td>Smith</td>\n",
       "      <td>mayala@example.com</td>\n",
       "      <td>2023-01-28</td>\n",
       "      <td>898a445987bfd157aff2af28a78a91c30679a8590ce267...</td>\n",
       "    </tr>\n",
       "    <tr>\n",
       "      <th>3</th>\n",
       "      <td>Adam</td>\n",
       "      <td>Dennis</td>\n",
       "      <td>whiteheadchristopher@example.org</td>\n",
       "      <td>2023-02-19</td>\n",
       "      <td>d668225fc0938701c806631ae28b5097cc2a27ab90924a...</td>\n",
       "    </tr>\n",
       "    <tr>\n",
       "      <th>4</th>\n",
       "      <td>Kristy</td>\n",
       "      <td>Smith</td>\n",
       "      <td>qberry@example.com</td>\n",
       "      <td>2023-11-22</td>\n",
       "      <td>c631fad82a156f5cfdcdee525837ea68fa3bfd82afc6e0...</td>\n",
       "    </tr>\n",
       "  </tbody>\n",
       "</table>\n",
       "</div>"
      ],
      "text/plain": [
       "  first_name last_name                             email  last_login  \\\n",
       "0      Brian    Miller                cadams@example.com  2023-07-28   \n",
       "1       Anna  Peterson          moorematthew@example.com  2023-09-30   \n",
       "2       John     Smith                mayala@example.com  2023-01-28   \n",
       "3       Adam    Dennis  whiteheadchristopher@example.org  2023-02-19   \n",
       "4     Kristy     Smith                qberry@example.com  2023-11-22   \n",
       "\n",
       "                                                hash  \n",
       "0  ff9874715f4ceca27f1603e1babc6e80779d5949e35ba1...  \n",
       "1  9f781215b0ebae5f53f97a13bd93a4a53652a33f9a56d9...  \n",
       "2  898a445987bfd157aff2af28a78a91c30679a8590ce267...  \n",
       "3  d668225fc0938701c806631ae28b5097cc2a27ab90924a...  \n",
       "4  c631fad82a156f5cfdcdee525837ea68fa3bfd82afc6e0...  "
      ]
     },
     "execution_count": 5,
     "metadata": {},
     "output_type": "execute_result"
    }
   ],
   "source": [
    "data = gen.generate_dataframe(10, column_providers_dict, [\"first_name\", \"last_name\"])\n",
    "data.head(5)"
   ]
  },
  {
   "cell_type": "code",
   "execution_count": 6,
   "metadata": {},
   "outputs": [],
   "source": [
    "gen.fake.add_provider(ToManyProvider)\n",
    "gen.fake.add_provider(ToOneProvider)"
   ]
  },
  {
   "cell_type": "code",
   "execution_count": 7,
   "metadata": {},
   "outputs": [
    {
     "data": {
      "text/plain": [
       "['Victoria',\n",
       " 'Sheila',\n",
       " 'Jennifer',\n",
       " 'Donna',\n",
       " 'Steven',\n",
       " 'Katrina',\n",
       " 'Christopher',\n",
       " 'Crystal',\n",
       " 'Jeremy',\n",
       " 'Travis']"
      ]
     },
     "execution_count": 7,
     "metadata": {},
     "output_type": "execute_result"
    }
   ],
   "source": [
    "[gen.fake.ToManyValue(data, \"first_name\") for x in range(0,10)]"
   ]
  },
  {
   "cell_type": "code",
   "execution_count": 8,
   "metadata": {},
   "outputs": [
    {
     "data": {
      "text/plain": [
       "['Stacy',\n",
       " 'Joseph',\n",
       " 'Amanda',\n",
       " 'Angela',\n",
       " 'Kevin',\n",
       " 'Cindy',\n",
       " 'Robin',\n",
       " 'Christopher',\n",
       " 'Brian',\n",
       " 'Vicki']"
      ]
     },
     "execution_count": 8,
     "metadata": {},
     "output_type": "execute_result"
    }
   ],
   "source": [
    "[gen.fake.ToOneValue(data, \"first_name\") for x in range(0,10)]"
   ]
  },
  {
   "cell_type": "code",
   "execution_count": 9,
   "metadata": {},
   "outputs": [
    {
     "data": {
      "text/plain": [
       "1000"
      ]
     },
     "execution_count": 9,
     "metadata": {},
     "output_type": "execute_result"
    }
   ],
   "source": [
    "data[\"first_name\"].count()"
   ]
  },
  {
   "cell_type": "code",
   "execution_count": 10,
   "metadata": {},
   "outputs": [
    {
     "data": {
      "text/plain": [
       "'Anna'"
      ]
     },
     "execution_count": 10,
     "metadata": {},
     "output_type": "execute_result"
    }
   ],
   "source": [
    "data[\"first_name\"][1]"
   ]
  },
  {
   "cell_type": "code",
   "execution_count": null,
   "metadata": {},
   "outputs": [],
   "source": []
  }
 ],
 "metadata": {
  "kernelspec": {
   "display_name": "faker-dev-venv",
   "language": "python",
   "name": "python3"
  },
  "language_info": {
   "codemirror_mode": {
    "name": "ipython",
    "version": 3
   },
   "file_extension": ".py",
   "mimetype": "text/x-python",
   "name": "python",
   "nbconvert_exporter": "python",
   "pygments_lexer": "ipython3",
   "version": "3.8.18"
  },
  "orig_nbformat": 4,
  "vscode": {
   "interpreter": {
    "hash": "9e3abb1a47bb6014f65ec3081e543ff83a12439431e8fb9b528eebf1717f0412"
   }
  }
 },
 "nbformat": 4,
 "nbformat_minor": 2
}
